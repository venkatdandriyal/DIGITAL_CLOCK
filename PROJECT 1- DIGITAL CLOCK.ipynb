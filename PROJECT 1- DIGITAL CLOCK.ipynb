{
 "cells": [
  {
   "cell_type": "code",
   "execution_count": 8,
   "metadata": {},
   "outputs": [],
   "source": [
    "from tkinter import * #used for developing GUI in python \n",
    "import time\n",
    "\n",
    "root = Tk(className=\"digital clock\")#initialize main window \n",
    "root.geometry('800x500') # Setting width and hieght of root window \n",
    "root.configure(bg=\"#86D3FF\")\n",
    "root.resizable(0, 0) #prohibits zesizing of main window \n",
    "\n",
    "Label(root , text=\"Digital Clock\", fg=\"Red\" , font=\"Courier 50 bold\").pack(fill=\"both\")\n",
    "\n",
    "time_lbl = Label(root, font=\"Courier 60 bold\",fg=\"White\" , bg=\"black\")\n",
    "time_lbl.place(x=150,y=150)\n",
    "\n",
    "def display():\n",
    "    time_display = time.strftime(\"%r\")\n",
    "    time_lbl.configure(text=time_display)\n",
    "    time_lbl.after(200, display)\n",
    "    current_time = int(time.strftime(\"%H\"))\n",
    "    if current_time <12:\n",
    "        Label(root,text=\"Good Morning!\", fg=\"#0040FF\", bg=\"#86D3FF\", font=\"Courier 50 bold\").place(x=150,y=250)\n",
    "    elif 12 <= current_time <18:\n",
    "        Label(root, text=\"Good Afternoon!\", fg=\"#0040FF\", bg=\"#86DFF\" ,font=\"Courier 50 bold\").place(x=120 ,y=250)\n",
    "    else:\n",
    "        Label(root,text=\"Good Evening!\", fg=\"#0040FF\", bg=\"#86D3FF\", font=\"Courier 50 bold\").place(x=150,y=250)\n",
    "\n",
    "display()\n",
    "root.mainloop()# keep the main window open until we manually close it \n",
    "        "
   ]
  },
  {
   "cell_type": "code",
   "execution_count": null,
   "metadata": {},
   "outputs": [],
   "source": []
  },
  {
   "cell_type": "code",
   "execution_count": null,
   "metadata": {},
   "outputs": [],
   "source": []
  }
 ],
 "metadata": {
  "kernelspec": {
   "display_name": "Python 3",
   "language": "python",
   "name": "python3"
  },
  "language_info": {
   "codemirror_mode": {
    "name": "ipython",
    "version": 3
   },
   "file_extension": ".py",
   "mimetype": "text/x-python",
   "name": "python",
   "nbconvert_exporter": "python",
   "pygments_lexer": "ipython3",
   "version": "3.7.6"
  }
 },
 "nbformat": 4,
 "nbformat_minor": 4
}
